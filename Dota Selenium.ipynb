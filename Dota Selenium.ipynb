{
 "cells": [
  {
   "cell_type": "code",
   "execution_count": 1,
   "metadata": {},
   "outputs": [],
   "source": [
    "from selenium import webdriver\n",
    "from selenium.webdriver.common.keys import Keys\n",
    "from selenium.webdriver.support import expected_conditions as EC\n",
    "from selenium.webdriver.common.by import By\n",
    "from selenium.webdriver.support.wait import WebDriverWait"
   ]
  },
  {
   "cell_type": "code",
   "execution_count": 26,
   "metadata": {},
   "outputs": [],
   "source": [
    "import os\n",
    "import wget\n",
    "import pandas as pd\n",
    "pd.set_option('display.max_columns', None)\n",
    "pd.set_option('display.max_rows', None)"
   ]
  },
  {
   "cell_type": "code",
   "execution_count": 3,
   "metadata": {},
   "outputs": [],
   "source": [
    "driver = webdriver.Chrome('C:/Program Files (x86)/chromedriver (2).exe')\n",
    "driver.get('https://dota2.fandom.com/wiki/Dota_2_Wiki')"
   ]
  },
  {
   "cell_type": "code",
   "execution_count": 4,
   "metadata": {},
   "outputs": [],
   "source": [
    "hero_list = []\n",
    "hero_name = driver.find_elements_by_class_name('heroentrytext')\n",
    "for name in hero_name:\n",
    "    hero_list.append(name.text)"
   ]
  },
  {
   "cell_type": "code",
   "execution_count": 5,
   "metadata": {},
   "outputs": [],
   "source": [
    "ling = []\n",
    "for i in driver.find_elements_by_class_name('heroentry'):\n",
    "    ling.append(i.find_element_by_tag_name('a').get_attribute('href'))\n",
    "str_hero = ling[0:40]\n",
    "agi_hero = ling[42:78]\n",
    "agi_hero.append(ling[40])\n",
    "agi_hero.sort()\n",
    "int_hero = ling[78:121]"
   ]
  },
  {
   "cell_type": "code",
   "execution_count": 6,
   "metadata": {},
   "outputs": [],
   "source": [
    "link_icon=[]\n",
    "for i in ling:\n",
    "    driver.get(i)\n",
    "    link_icon.append(driver.find_element_by_id('heroBio').find_element_by_tag_name('img').get_attribute('src'))"
   ]
  },
  {
   "cell_type": "code",
   "execution_count": 22,
   "metadata": {},
   "outputs": [
    {
     "data": {
      "text/plain": [
       "'C:\\\\Users\\\\johan\\\\Jupyter\\\\Jupyter Lab\\\\Liburan\\\\Web Scraping\\\\icon'"
      ]
     },
     "execution_count": 22,
     "metadata": {},
     "output_type": "execute_result"
    }
   ],
   "source": [
    "path = os.getcwd()\n",
    "path = os.path.join(path,'icon')\n",
    "os.mkdir(path)\n",
    "path"
   ]
  },
  {
   "cell_type": "code",
   "execution_count": 31,
   "metadata": {},
   "outputs": [
    {
     "data": {
      "text/plain": [
       "98    https://static.wikia.nocookie.net/dota2_gamepe...\n",
       "Name: link_icon, dtype: object"
      ]
     },
     "execution_count": 31,
     "metadata": {},
     "output_type": "execute_result"
    }
   ],
   "source": [
    "gabung = pd.DataFrame({\n",
    "    'hero':hero_list,\n",
    "    'link_icon':link_icon\n",
    "})\n",
    "gabung[gabung['hero']==\"Nature's Prophet\"]['link_icon']"
   ]
  },
  {
   "cell_type": "code",
   "execution_count": 24,
   "metadata": {},
   "outputs": [
    {
     "ename": "HTTPError",
     "evalue": "HTTP Error 404: Not Found",
     "output_type": "error",
     "traceback": [
      "\u001b[1;31m---------------------------------------------------------------------------\u001b[0m",
      "\u001b[1;31mHTTPError\u001b[0m                                 Traceback (most recent call last)",
      "\u001b[1;32m<ipython-input-24-e78db9922fb7>\u001b[0m in \u001b[0;36m<module>\u001b[1;34m\u001b[0m\n\u001b[0;32m      2\u001b[0m \u001b[1;32mfor\u001b[0m \u001b[0mi\u001b[0m \u001b[1;32min\u001b[0m \u001b[0mgabung\u001b[0m\u001b[1;33m[\u001b[0m\u001b[1;34m'link_icon'\u001b[0m\u001b[1;33m]\u001b[0m\u001b[1;33m:\u001b[0m\u001b[1;33m\u001b[0m\u001b[1;33m\u001b[0m\u001b[0m\n\u001b[0;32m      3\u001b[0m     \u001b[0msave_as\u001b[0m \u001b[1;33m=\u001b[0m \u001b[0mos\u001b[0m\u001b[1;33m.\u001b[0m\u001b[0mpath\u001b[0m\u001b[1;33m.\u001b[0m\u001b[0mjoin\u001b[0m\u001b[1;33m(\u001b[0m\u001b[0mpath\u001b[0m\u001b[1;33m,\u001b[0m\u001b[0mgabung\u001b[0m\u001b[1;33m[\u001b[0m\u001b[1;34m'hero'\u001b[0m\u001b[1;33m]\u001b[0m\u001b[1;33m[\u001b[0m\u001b[0mcounter\u001b[0m\u001b[1;33m]\u001b[0m\u001b[1;33m+\u001b[0m\u001b[1;34m'.jpg'\u001b[0m\u001b[1;33m)\u001b[0m\u001b[1;33m\u001b[0m\u001b[1;33m\u001b[0m\u001b[0m\n\u001b[1;32m----> 4\u001b[1;33m     \u001b[0mwget\u001b[0m\u001b[1;33m.\u001b[0m\u001b[0mdownload\u001b[0m\u001b[1;33m(\u001b[0m\u001b[0mi\u001b[0m\u001b[1;33m,\u001b[0m\u001b[0msave_as\u001b[0m\u001b[1;33m)\u001b[0m\u001b[1;33m\u001b[0m\u001b[1;33m\u001b[0m\u001b[0m\n\u001b[0m\u001b[0;32m      5\u001b[0m     \u001b[0mcounter\u001b[0m\u001b[1;33m+=\u001b[0m\u001b[1;36m1\u001b[0m\u001b[1;33m\u001b[0m\u001b[1;33m\u001b[0m\u001b[0m\n",
      "\u001b[1;32m~\\anaconda3\\lib\\site-packages\\wget.py\u001b[0m in \u001b[0;36mdownload\u001b[1;34m(url, out, bar)\u001b[0m\n\u001b[0;32m    524\u001b[0m     \u001b[1;32melse\u001b[0m\u001b[1;33m:\u001b[0m\u001b[1;33m\u001b[0m\u001b[1;33m\u001b[0m\u001b[0m\n\u001b[0;32m    525\u001b[0m         \u001b[0mbinurl\u001b[0m \u001b[1;33m=\u001b[0m \u001b[0murl\u001b[0m\u001b[1;33m\u001b[0m\u001b[1;33m\u001b[0m\u001b[0m\n\u001b[1;32m--> 526\u001b[1;33m     \u001b[1;33m(\u001b[0m\u001b[0mtmpfile\u001b[0m\u001b[1;33m,\u001b[0m \u001b[0mheaders\u001b[0m\u001b[1;33m)\u001b[0m \u001b[1;33m=\u001b[0m \u001b[0mulib\u001b[0m\u001b[1;33m.\u001b[0m\u001b[0murlretrieve\u001b[0m\u001b[1;33m(\u001b[0m\u001b[0mbinurl\u001b[0m\u001b[1;33m,\u001b[0m \u001b[0mtmpfile\u001b[0m\u001b[1;33m,\u001b[0m \u001b[0mcallback\u001b[0m\u001b[1;33m)\u001b[0m\u001b[1;33m\u001b[0m\u001b[1;33m\u001b[0m\u001b[0m\n\u001b[0m\u001b[0;32m    527\u001b[0m     \u001b[0mfilename\u001b[0m \u001b[1;33m=\u001b[0m \u001b[0mdetect_filename\u001b[0m\u001b[1;33m(\u001b[0m\u001b[0murl\u001b[0m\u001b[1;33m,\u001b[0m \u001b[0mout\u001b[0m\u001b[1;33m,\u001b[0m \u001b[0mheaders\u001b[0m\u001b[1;33m)\u001b[0m\u001b[1;33m\u001b[0m\u001b[1;33m\u001b[0m\u001b[0m\n\u001b[0;32m    528\u001b[0m     \u001b[1;32mif\u001b[0m \u001b[0moutdir\u001b[0m\u001b[1;33m:\u001b[0m\u001b[1;33m\u001b[0m\u001b[1;33m\u001b[0m\u001b[0m\n",
      "\u001b[1;32m~\\anaconda3\\lib\\urllib\\request.py\u001b[0m in \u001b[0;36murlretrieve\u001b[1;34m(url, filename, reporthook, data)\u001b[0m\n\u001b[0;32m    245\u001b[0m     \u001b[0murl_type\u001b[0m\u001b[1;33m,\u001b[0m \u001b[0mpath\u001b[0m \u001b[1;33m=\u001b[0m \u001b[0m_splittype\u001b[0m\u001b[1;33m(\u001b[0m\u001b[0murl\u001b[0m\u001b[1;33m)\u001b[0m\u001b[1;33m\u001b[0m\u001b[1;33m\u001b[0m\u001b[0m\n\u001b[0;32m    246\u001b[0m \u001b[1;33m\u001b[0m\u001b[0m\n\u001b[1;32m--> 247\u001b[1;33m     \u001b[1;32mwith\u001b[0m \u001b[0mcontextlib\u001b[0m\u001b[1;33m.\u001b[0m\u001b[0mclosing\u001b[0m\u001b[1;33m(\u001b[0m\u001b[0murlopen\u001b[0m\u001b[1;33m(\u001b[0m\u001b[0murl\u001b[0m\u001b[1;33m,\u001b[0m \u001b[0mdata\u001b[0m\u001b[1;33m)\u001b[0m\u001b[1;33m)\u001b[0m \u001b[1;32mas\u001b[0m \u001b[0mfp\u001b[0m\u001b[1;33m:\u001b[0m\u001b[1;33m\u001b[0m\u001b[1;33m\u001b[0m\u001b[0m\n\u001b[0m\u001b[0;32m    248\u001b[0m         \u001b[0mheaders\u001b[0m \u001b[1;33m=\u001b[0m \u001b[0mfp\u001b[0m\u001b[1;33m.\u001b[0m\u001b[0minfo\u001b[0m\u001b[1;33m(\u001b[0m\u001b[1;33m)\u001b[0m\u001b[1;33m\u001b[0m\u001b[1;33m\u001b[0m\u001b[0m\n\u001b[0;32m    249\u001b[0m \u001b[1;33m\u001b[0m\u001b[0m\n",
      "\u001b[1;32m~\\anaconda3\\lib\\urllib\\request.py\u001b[0m in \u001b[0;36murlopen\u001b[1;34m(url, data, timeout, cafile, capath, cadefault, context)\u001b[0m\n\u001b[0;32m    220\u001b[0m     \u001b[1;32melse\u001b[0m\u001b[1;33m:\u001b[0m\u001b[1;33m\u001b[0m\u001b[1;33m\u001b[0m\u001b[0m\n\u001b[0;32m    221\u001b[0m         \u001b[0mopener\u001b[0m \u001b[1;33m=\u001b[0m \u001b[0m_opener\u001b[0m\u001b[1;33m\u001b[0m\u001b[1;33m\u001b[0m\u001b[0m\n\u001b[1;32m--> 222\u001b[1;33m     \u001b[1;32mreturn\u001b[0m \u001b[0mopener\u001b[0m\u001b[1;33m.\u001b[0m\u001b[0mopen\u001b[0m\u001b[1;33m(\u001b[0m\u001b[0murl\u001b[0m\u001b[1;33m,\u001b[0m \u001b[0mdata\u001b[0m\u001b[1;33m,\u001b[0m \u001b[0mtimeout\u001b[0m\u001b[1;33m)\u001b[0m\u001b[1;33m\u001b[0m\u001b[1;33m\u001b[0m\u001b[0m\n\u001b[0m\u001b[0;32m    223\u001b[0m \u001b[1;33m\u001b[0m\u001b[0m\n\u001b[0;32m    224\u001b[0m \u001b[1;32mdef\u001b[0m \u001b[0minstall_opener\u001b[0m\u001b[1;33m(\u001b[0m\u001b[0mopener\u001b[0m\u001b[1;33m)\u001b[0m\u001b[1;33m:\u001b[0m\u001b[1;33m\u001b[0m\u001b[1;33m\u001b[0m\u001b[0m\n",
      "\u001b[1;32m~\\anaconda3\\lib\\urllib\\request.py\u001b[0m in \u001b[0;36mopen\u001b[1;34m(self, fullurl, data, timeout)\u001b[0m\n\u001b[0;32m    529\u001b[0m         \u001b[1;32mfor\u001b[0m \u001b[0mprocessor\u001b[0m \u001b[1;32min\u001b[0m \u001b[0mself\u001b[0m\u001b[1;33m.\u001b[0m\u001b[0mprocess_response\u001b[0m\u001b[1;33m.\u001b[0m\u001b[0mget\u001b[0m\u001b[1;33m(\u001b[0m\u001b[0mprotocol\u001b[0m\u001b[1;33m,\u001b[0m \u001b[1;33m[\u001b[0m\u001b[1;33m]\u001b[0m\u001b[1;33m)\u001b[0m\u001b[1;33m:\u001b[0m\u001b[1;33m\u001b[0m\u001b[1;33m\u001b[0m\u001b[0m\n\u001b[0;32m    530\u001b[0m             \u001b[0mmeth\u001b[0m \u001b[1;33m=\u001b[0m \u001b[0mgetattr\u001b[0m\u001b[1;33m(\u001b[0m\u001b[0mprocessor\u001b[0m\u001b[1;33m,\u001b[0m \u001b[0mmeth_name\u001b[0m\u001b[1;33m)\u001b[0m\u001b[1;33m\u001b[0m\u001b[1;33m\u001b[0m\u001b[0m\n\u001b[1;32m--> 531\u001b[1;33m             \u001b[0mresponse\u001b[0m \u001b[1;33m=\u001b[0m \u001b[0mmeth\u001b[0m\u001b[1;33m(\u001b[0m\u001b[0mreq\u001b[0m\u001b[1;33m,\u001b[0m \u001b[0mresponse\u001b[0m\u001b[1;33m)\u001b[0m\u001b[1;33m\u001b[0m\u001b[1;33m\u001b[0m\u001b[0m\n\u001b[0m\u001b[0;32m    532\u001b[0m \u001b[1;33m\u001b[0m\u001b[0m\n\u001b[0;32m    533\u001b[0m         \u001b[1;32mreturn\u001b[0m \u001b[0mresponse\u001b[0m\u001b[1;33m\u001b[0m\u001b[1;33m\u001b[0m\u001b[0m\n",
      "\u001b[1;32m~\\anaconda3\\lib\\urllib\\request.py\u001b[0m in \u001b[0;36mhttp_response\u001b[1;34m(self, request, response)\u001b[0m\n\u001b[0;32m    638\u001b[0m         \u001b[1;31m# request was successfully received, understood, and accepted.\u001b[0m\u001b[1;33m\u001b[0m\u001b[1;33m\u001b[0m\u001b[1;33m\u001b[0m\u001b[0m\n\u001b[0;32m    639\u001b[0m         \u001b[1;32mif\u001b[0m \u001b[1;32mnot\u001b[0m \u001b[1;33m(\u001b[0m\u001b[1;36m200\u001b[0m \u001b[1;33m<=\u001b[0m \u001b[0mcode\u001b[0m \u001b[1;33m<\u001b[0m \u001b[1;36m300\u001b[0m\u001b[1;33m)\u001b[0m\u001b[1;33m:\u001b[0m\u001b[1;33m\u001b[0m\u001b[1;33m\u001b[0m\u001b[0m\n\u001b[1;32m--> 640\u001b[1;33m             response = self.parent.error(\n\u001b[0m\u001b[0;32m    641\u001b[0m                 'http', request, response, code, msg, hdrs)\n\u001b[0;32m    642\u001b[0m \u001b[1;33m\u001b[0m\u001b[0m\n",
      "\u001b[1;32m~\\anaconda3\\lib\\urllib\\request.py\u001b[0m in \u001b[0;36merror\u001b[1;34m(self, proto, *args)\u001b[0m\n\u001b[0;32m    567\u001b[0m         \u001b[1;32mif\u001b[0m \u001b[0mhttp_err\u001b[0m\u001b[1;33m:\u001b[0m\u001b[1;33m\u001b[0m\u001b[1;33m\u001b[0m\u001b[0m\n\u001b[0;32m    568\u001b[0m             \u001b[0margs\u001b[0m \u001b[1;33m=\u001b[0m \u001b[1;33m(\u001b[0m\u001b[0mdict\u001b[0m\u001b[1;33m,\u001b[0m \u001b[1;34m'default'\u001b[0m\u001b[1;33m,\u001b[0m \u001b[1;34m'http_error_default'\u001b[0m\u001b[1;33m)\u001b[0m \u001b[1;33m+\u001b[0m \u001b[0morig_args\u001b[0m\u001b[1;33m\u001b[0m\u001b[1;33m\u001b[0m\u001b[0m\n\u001b[1;32m--> 569\u001b[1;33m             \u001b[1;32mreturn\u001b[0m \u001b[0mself\u001b[0m\u001b[1;33m.\u001b[0m\u001b[0m_call_chain\u001b[0m\u001b[1;33m(\u001b[0m\u001b[1;33m*\u001b[0m\u001b[0margs\u001b[0m\u001b[1;33m)\u001b[0m\u001b[1;33m\u001b[0m\u001b[1;33m\u001b[0m\u001b[0m\n\u001b[0m\u001b[0;32m    570\u001b[0m \u001b[1;33m\u001b[0m\u001b[0m\n\u001b[0;32m    571\u001b[0m \u001b[1;31m# XXX probably also want an abstract factory that knows when it makes\u001b[0m\u001b[1;33m\u001b[0m\u001b[1;33m\u001b[0m\u001b[1;33m\u001b[0m\u001b[0m\n",
      "\u001b[1;32m~\\anaconda3\\lib\\urllib\\request.py\u001b[0m in \u001b[0;36m_call_chain\u001b[1;34m(self, chain, kind, meth_name, *args)\u001b[0m\n\u001b[0;32m    500\u001b[0m         \u001b[1;32mfor\u001b[0m \u001b[0mhandler\u001b[0m \u001b[1;32min\u001b[0m \u001b[0mhandlers\u001b[0m\u001b[1;33m:\u001b[0m\u001b[1;33m\u001b[0m\u001b[1;33m\u001b[0m\u001b[0m\n\u001b[0;32m    501\u001b[0m             \u001b[0mfunc\u001b[0m \u001b[1;33m=\u001b[0m \u001b[0mgetattr\u001b[0m\u001b[1;33m(\u001b[0m\u001b[0mhandler\u001b[0m\u001b[1;33m,\u001b[0m \u001b[0mmeth_name\u001b[0m\u001b[1;33m)\u001b[0m\u001b[1;33m\u001b[0m\u001b[1;33m\u001b[0m\u001b[0m\n\u001b[1;32m--> 502\u001b[1;33m             \u001b[0mresult\u001b[0m \u001b[1;33m=\u001b[0m \u001b[0mfunc\u001b[0m\u001b[1;33m(\u001b[0m\u001b[1;33m*\u001b[0m\u001b[0margs\u001b[0m\u001b[1;33m)\u001b[0m\u001b[1;33m\u001b[0m\u001b[1;33m\u001b[0m\u001b[0m\n\u001b[0m\u001b[0;32m    503\u001b[0m             \u001b[1;32mif\u001b[0m \u001b[0mresult\u001b[0m \u001b[1;32mis\u001b[0m \u001b[1;32mnot\u001b[0m \u001b[1;32mNone\u001b[0m\u001b[1;33m:\u001b[0m\u001b[1;33m\u001b[0m\u001b[1;33m\u001b[0m\u001b[0m\n\u001b[0;32m    504\u001b[0m                 \u001b[1;32mreturn\u001b[0m \u001b[0mresult\u001b[0m\u001b[1;33m\u001b[0m\u001b[1;33m\u001b[0m\u001b[0m\n",
      "\u001b[1;32m~\\anaconda3\\lib\\urllib\\request.py\u001b[0m in \u001b[0;36mhttp_error_default\u001b[1;34m(self, req, fp, code, msg, hdrs)\u001b[0m\n\u001b[0;32m    647\u001b[0m \u001b[1;32mclass\u001b[0m \u001b[0mHTTPDefaultErrorHandler\u001b[0m\u001b[1;33m(\u001b[0m\u001b[0mBaseHandler\u001b[0m\u001b[1;33m)\u001b[0m\u001b[1;33m:\u001b[0m\u001b[1;33m\u001b[0m\u001b[1;33m\u001b[0m\u001b[0m\n\u001b[0;32m    648\u001b[0m     \u001b[1;32mdef\u001b[0m \u001b[0mhttp_error_default\u001b[0m\u001b[1;33m(\u001b[0m\u001b[0mself\u001b[0m\u001b[1;33m,\u001b[0m \u001b[0mreq\u001b[0m\u001b[1;33m,\u001b[0m \u001b[0mfp\u001b[0m\u001b[1;33m,\u001b[0m \u001b[0mcode\u001b[0m\u001b[1;33m,\u001b[0m \u001b[0mmsg\u001b[0m\u001b[1;33m,\u001b[0m \u001b[0mhdrs\u001b[0m\u001b[1;33m)\u001b[0m\u001b[1;33m:\u001b[0m\u001b[1;33m\u001b[0m\u001b[1;33m\u001b[0m\u001b[0m\n\u001b[1;32m--> 649\u001b[1;33m         \u001b[1;32mraise\u001b[0m \u001b[0mHTTPError\u001b[0m\u001b[1;33m(\u001b[0m\u001b[0mreq\u001b[0m\u001b[1;33m.\u001b[0m\u001b[0mfull_url\u001b[0m\u001b[1;33m,\u001b[0m \u001b[0mcode\u001b[0m\u001b[1;33m,\u001b[0m \u001b[0mmsg\u001b[0m\u001b[1;33m,\u001b[0m \u001b[0mhdrs\u001b[0m\u001b[1;33m,\u001b[0m \u001b[0mfp\u001b[0m\u001b[1;33m)\u001b[0m\u001b[1;33m\u001b[0m\u001b[1;33m\u001b[0m\u001b[0m\n\u001b[0m\u001b[0;32m    650\u001b[0m \u001b[1;33m\u001b[0m\u001b[0m\n\u001b[0;32m    651\u001b[0m \u001b[1;32mclass\u001b[0m \u001b[0mHTTPRedirectHandler\u001b[0m\u001b[1;33m(\u001b[0m\u001b[0mBaseHandler\u001b[0m\u001b[1;33m)\u001b[0m\u001b[1;33m:\u001b[0m\u001b[1;33m\u001b[0m\u001b[1;33m\u001b[0m\u001b[0m\n",
      "\u001b[1;31mHTTPError\u001b[0m: HTTP Error 404: Not Found"
     ]
    }
   ],
   "source": [
    "counter = 0\n",
    "for i in gabung['link_icon']:\n",
    "    save_as = os.path.join(path,gabung['hero'][counter]+'.jpg')\n",
    "    wget.download(i,save_as)\n",
    "    counter+=1"
   ]
  },
  {
   "cell_type": "code",
   "execution_count": null,
   "metadata": {},
   "outputs": [],
   "source": [
    "type_hero = []\n",
    "hero = []\n",
    "init_str = []\n",
    "init_agi = []\n",
    "init_int = []\n",
    "growth_str = []\n",
    "growth_agi = []\n",
    "growth_int = []\n",
    "init_health = []\n",
    "init_health_regen = []\n",
    "init_mana = []\n",
    "init_mana_regen = []\n",
    "init_armor = []\n",
    "init_aspdpersecon = []\n",
    "init_damage = []\n",
    "init_magic_res = []\n",
    "init_movement_speed = []\n",
    "init_aspd = []\n",
    "init_turn_rate = []\n",
    "init_vision_range = []\n",
    "init_attack_range = []\n",
    "init_projectile_speed = []\n",
    "init_attack_animation = []\n",
    "init_base_time_attack = []\n",
    "init_damage_block = []\n",
    "role = []\n",
    "for i in str_hero:\n",
    "    driver.get(i)\n",
    "    type_hero.append('Strength')\n",
    "    hero.append(driver.find_element_by_id('firstHeading').text)\n",
    "    init_str.append(driver.find_element_by_xpath('/html[1]/body[1]/div[2]/div[3]/div[1]/div[5]/div[4]/div[1]/table[1]/tbody[1]/tr[1]/th[1]/div[2]/div[4]/b[1]').text)\n",
    "    init_agi.append(driver.find_element_by_xpath('/html[1]/body[1]/div[2]/div[3]/div[1]/div[5]/div[4]/div[1]/table[1]/tbody[1]/tr[1]/th[1]/div[2]/div[5]/b[1]').text)\n",
    "    init_int.append(driver.find_element_by_xpath('/html[1]/body[1]/div[2]/div[3]/div[1]/div[5]/div[4]/div[1]/table[1]/tbody[1]/tr[1]/th[1]/div[2]/div[6]/b[1]').text)\n",
    "    growth_str.append(driver.find_element_by_xpath('/html[1]/body[1]/div[2]/div[3]/div[1]/div[5]/div[4]/div[1]/table[1]/tbody[1]/tr[1]/th[1]/div[2]/div[4]').text.split('+ ')[1])\n",
    "    growth_agi.append(driver.find_element_by_xpath('/html[1]/body[1]/div[2]/div[3]/div[1]/div[5]/div[4]/div[1]/table[1]/tbody[1]/tr[1]/th[1]/div[2]/div[5]').text.split('+ ')[1])\n",
    "    growth_int.append(driver.find_element_by_xpath('/html[1]/body[1]/div[2]/div[3]/div[1]/div[5]/div[4]/div[1]/table[1]/tbody[1]/tr[1]/th[1]/div[2]/div[6]').text.split('+ ')[1])\n",
    "    init_health.append(driver.find_element_by_xpath('/html[1]/body[1]/div[2]/div[3]/div[1]/div[5]/div[4]/div[1]/table[1]/tbody[1]/tr[2]/td[1]/table[1]/tbody[1]/tr[2]/td[2]').text)\n",
    "    init_health_regen.append(driver.find_element_by_xpath('/html[1]/body[1]/div[2]/div[3]/div[1]/div[5]/div[4]/div[1]/table[1]/tbody[1]/tr[2]/td[1]/table[1]/tbody[1]/tr[3]/td[2]').text)\n",
    "    init_mana.append(driver.find_element_by_xpath('/html[1]/body[1]/div[2]/div[3]/div[1]/div[5]/div[4]/div[1]/table[1]/tbody[1]/tr[2]/td[1]/table[1]/tbody[1]/tr[4]/td[2]').text)\n",
    "    init_mana_regen.append(driver.find_element_by_xpath('/html[1]/body[1]/div[2]/div[3]/div[1]/div[5]/div[4]/div[1]/table[1]/tbody[1]/tr[2]/td[1]/table[1]/tbody[1]/tr[5]/td[2]').text)\n",
    "    init_armor.append(driver.find_element_by_xpath('/html[1]/body[1]/div[2]/div[3]/div[1]/div[5]/div[4]/div[1]/table[1]/tbody[1]/tr[2]/td[1]/table[1]/tbody[1]/tr[6]/td[2]').text)\n",
    "    init_aspdpersecon.append(driver.find_element_by_xpath('/html[1]/body[1]/div[2]/div[3]/div[1]/div[5]/div[4]/div[1]/table[1]/tbody[1]/tr[2]/td[1]/table[1]/tbody[1]/tr[7]/td[2]').text)\n",
    "    init_damage.append(driver.find_element_by_xpath('/html[1]/body[1]/div[2]/div[3]/div[1]/div[5]/div[4]/div[1]/table[1]/tbody[1]/tr[2]/td[1]/table[1]/tbody[1]/tr[8]/td[2]').text)\n",
    "    init_magic_res.append(driver.find_element_by_xpath('/html[1]/body[1]/div[2]/div[3]/div[1]/div[5]/div[4]/div[1]/table[1]/tbody[1]/tr[3]/td[1]/table[1]/tbody[1]/tr[1]/td[1]').text)\n",
    "    init_movement_speed.append(driver.find_element_by_xpath('/html[1]/body[1]/div[2]/div[3]/div[1]/div[5]/div[4]/div[1]/table[1]/tbody[1]/tr[3]/td[1]/table[1]/tbody[1]/tr[2]/td[1]').text)\n",
    "    init_aspd.append(driver.find_element_by_xpath('/html[1]/body[1]/div[2]/div[3]/div[1]/div[5]/div[4]/div[1]/table[1]/tbody[1]/tr[3]/td[1]/table[1]/tbody[1]/tr[3]/td[1]').text)\n",
    "    init_turn_rate.append(driver.find_element_by_xpath('/html[1]/body[1]/div[2]/div[3]/div[1]/div[5]/div[4]/div[1]/table[1]/tbody[1]/tr[3]/td[1]/table[1]/tbody[1]/tr[4]/td[1]').text)\n",
    "    init_vision_range.append(driver.find_element_by_xpath('/html[1]/body[1]/div[2]/div[3]/div[1]/div[5]/div[4]/div[1]/table[1]/tbody[1]/tr[3]/td[1]/table[1]/tbody[1]/tr[5]/td[1]').text)\n",
    "    init_attack_range.append(driver.find_element_by_xpath('/html[1]/body[1]/div[2]/div[3]/div[1]/div[5]/div[4]/div[1]/table[1]/tbody[1]/tr[3]/td[1]/table[1]/tbody[1]/tr[6]/td[1]').text)\n",
    "    init_projectile_speed.append(driver.find_element_by_xpath('/html[1]/body[1]/div[2]/div[3]/div[1]/div[5]/div[4]/div[1]/table[1]/tbody[1]/tr[3]/td[1]/table[1]/tbody[1]/tr[7]/td[1]').text)\n",
    "    init_attack_animation.append(driver.find_element_by_xpath('/html[1]/body[1]/div[2]/div[3]/div[1]/div[5]/div[4]/div[1]/table[1]/tbody[1]/tr[3]/td[1]/table[1]/tbody[1]/tr[8]/td[1]').text)\n",
    "    init_base_time_attack.append(driver.find_element_by_xpath('/html[1]/body[1]/div[2]/div[3]/div[1]/div[5]/div[4]/div[1]/table[1]/tbody[1]/tr[3]/td[1]/table[1]/tbody[1]/tr[9]/td[1]').text)\n",
    "    init_damage_block.append(driver.find_element_by_xpath('/html[1]/body[1]/div[2]/div[3]/div[1]/div[5]/div[4]/div[1]/table[1]/tbody[1]/tr[3]/td[1]/table[1]/tbody[1]/tr[10]/td[1]').text)\n",
    "    roles = []\n",
    "    for j in driver.find_element_by_class_name('mw-parser-output').find_elements_by_tag_name('a'):\n",
    "        if j.get_attribute('title')=='Role':\n",
    "            roles.append(j.text)\n",
    "    role.append(roles)\n"
   ]
  },
  {
   "cell_type": "code",
   "execution_count": null,
   "metadata": {},
   "outputs": [],
   "source": [
    "str_hero = pd.DataFrame({\n",
    "    'Type':type_hero,\n",
    "    'Hero':hero,\n",
    "    'Strength':init_str,\n",
    "    'Agility':init_agi,\n",
    "    'Intelligence':init_int,\n",
    "    'Growth Strength':growth_str,\n",
    "    'Growth Agility':growth_agi,\n",
    "    'Growth Intelligence':growth_int,\n",
    "    'Health':init_health,\n",
    "    'Health Regen':init_health_regen,\n",
    "    'Mana':init_mana,\n",
    "    'Mana Regen':init_mana_regen,\n",
    "    'Armor':init_armor,\n",
    "    'Attack Speed Per Second':init_aspdpersecon,\n",
    "    'Damage':init_damage,\n",
    "    'Magic Res':init_magic_res,\n",
    "    'Movement Speed':init_movement_speed,\n",
    "    'Attack Speed':init_aspd,\n",
    "    'Turn Rate':init_turn_rate,\n",
    "    'Vision Range':init_vision_range,\n",
    "    'Attack Range':init_attack_range,\n",
    "    'Projectille Speed':init_projectile_speed,\n",
    "    'Attack Animation Speed':init_attack_animation,\n",
    "    'Base Time Attack':init_base_time_attack,\n",
    "    'Damage Blocked':init_damage_block,\n",
    "    'Role':role\n",
    "    \n",
    "})\n",
    "str_hero"
   ]
  },
  {
   "cell_type": "code",
   "execution_count": null,
   "metadata": {},
   "outputs": [],
   "source": [
    "str_hero.to_csv('Hero Strength.csv',index=False)"
   ]
  },
  {
   "cell_type": "code",
   "execution_count": null,
   "metadata": {},
   "outputs": [],
   "source": [
    "type_hero = []\n",
    "hero = []\n",
    "init_str = []\n",
    "init_agi = []\n",
    "init_int = []\n",
    "growth_str = []\n",
    "growth_agi = []\n",
    "growth_int = []\n",
    "init_health = []\n",
    "init_health_regen = []\n",
    "init_mana = []\n",
    "init_mana_regen = []\n",
    "init_armor = []\n",
    "init_aspdpersecon = []\n",
    "init_damage = []\n",
    "init_magic_res = []\n",
    "init_movement_speed = []\n",
    "init_aspd = []\n",
    "init_turn_rate = []\n",
    "init_vision_range = []\n",
    "init_attack_range = []\n",
    "init_projectile_speed = []\n",
    "init_attack_animation = []\n",
    "init_base_time_attack = []\n",
    "init_damage_block = []\n",
    "role = []\n",
    "\n",
    "for i in agi_hero:\n",
    "    driver.get(i)\n",
    "    type_hero.append('Agility')\n",
    "    hero.append(driver.find_element_by_id('firstHeading').text)\n",
    "    init_str.append(driver.find_element_by_xpath('/html[1]/body[1]/div[2]/div[3]/div[1]/div[5]/div[4]/div[1]/table[1]/tbody[1]/tr[1]/th[1]/div[2]/div[4]/b[1]').text)\n",
    "    init_agi.append(driver.find_element_by_xpath('/html[1]/body[1]/div[2]/div[3]/div[1]/div[5]/div[4]/div[1]/table[1]/tbody[1]/tr[1]/th[1]/div[2]/div[5]/b[1]').text)\n",
    "    init_int.append(driver.find_element_by_xpath('/html[1]/body[1]/div[2]/div[3]/div[1]/div[5]/div[4]/div[1]/table[1]/tbody[1]/tr[1]/th[1]/div[2]/div[6]/b[1]').text)\n",
    "    growth_str.append(driver.find_element_by_xpath('/html[1]/body[1]/div[2]/div[3]/div[1]/div[5]/div[4]/div[1]/table[1]/tbody[1]/tr[1]/th[1]/div[2]/div[4]').text.split('+ ')[1])\n",
    "    growth_agi.append(driver.find_element_by_xpath('/html[1]/body[1]/div[2]/div[3]/div[1]/div[5]/div[4]/div[1]/table[1]/tbody[1]/tr[1]/th[1]/div[2]/div[5]').text.split('+ ')[1])\n",
    "    growth_int.append(driver.find_element_by_xpath('/html[1]/body[1]/div[2]/div[3]/div[1]/div[5]/div[4]/div[1]/table[1]/tbody[1]/tr[1]/th[1]/div[2]/div[6]').text.split('+ ')[1])\n",
    "    init_health.append(driver.find_element_by_xpath('/html[1]/body[1]/div[2]/div[3]/div[1]/div[5]/div[4]/div[1]/table[1]/tbody[1]/tr[2]/td[1]/table[1]/tbody[1]/tr[2]/td[2]').text)\n",
    "    init_health_regen.append(driver.find_element_by_xpath('/html[1]/body[1]/div[2]/div[3]/div[1]/div[5]/div[4]/div[1]/table[1]/tbody[1]/tr[2]/td[1]/table[1]/tbody[1]/tr[3]/td[2]').text)\n",
    "    init_mana.append(driver.find_element_by_xpath('/html[1]/body[1]/div[2]/div[3]/div[1]/div[5]/div[4]/div[1]/table[1]/tbody[1]/tr[2]/td[1]/table[1]/tbody[1]/tr[4]/td[2]').text)\n",
    "    init_mana_regen.append(driver.find_element_by_xpath('/html[1]/body[1]/div[2]/div[3]/div[1]/div[5]/div[4]/div[1]/table[1]/tbody[1]/tr[2]/td[1]/table[1]/tbody[1]/tr[5]/td[2]').text)\n",
    "    init_armor.append(driver.find_element_by_xpath('/html[1]/body[1]/div[2]/div[3]/div[1]/div[5]/div[4]/div[1]/table[1]/tbody[1]/tr[2]/td[1]/table[1]/tbody[1]/tr[6]/td[2]').text)\n",
    "    init_aspdpersecon.append(driver.find_element_by_xpath('/html[1]/body[1]/div[2]/div[3]/div[1]/div[5]/div[4]/div[1]/table[1]/tbody[1]/tr[2]/td[1]/table[1]/tbody[1]/tr[7]/td[2]').text)\n",
    "    init_damage.append(driver.find_element_by_xpath('/html[1]/body[1]/div[2]/div[3]/div[1]/div[5]/div[4]/div[1]/table[1]/tbody[1]/tr[2]/td[1]/table[1]/tbody[1]/tr[8]/td[2]').text)\n",
    "    init_magic_res.append(driver.find_element_by_xpath('/html[1]/body[1]/div[2]/div[3]/div[1]/div[5]/div[4]/div[1]/table[1]/tbody[1]/tr[3]/td[1]/table[1]/tbody[1]/tr[1]/td[1]').text)\n",
    "    init_movement_speed.append(driver.find_element_by_xpath('/html[1]/body[1]/div[2]/div[3]/div[1]/div[5]/div[4]/div[1]/table[1]/tbody[1]/tr[3]/td[1]/table[1]/tbody[1]/tr[2]/td[1]').text)\n",
    "    init_aspd.append(driver.find_element_by_xpath('/html[1]/body[1]/div[2]/div[3]/div[1]/div[5]/div[4]/div[1]/table[1]/tbody[1]/tr[3]/td[1]/table[1]/tbody[1]/tr[3]/td[1]').text)\n",
    "    init_turn_rate.append(driver.find_element_by_xpath('/html[1]/body[1]/div[2]/div[3]/div[1]/div[5]/div[4]/div[1]/table[1]/tbody[1]/tr[3]/td[1]/table[1]/tbody[1]/tr[4]/td[1]').text)\n",
    "    init_vision_range.append(driver.find_element_by_xpath('/html[1]/body[1]/div[2]/div[3]/div[1]/div[5]/div[4]/div[1]/table[1]/tbody[1]/tr[3]/td[1]/table[1]/tbody[1]/tr[5]/td[1]').text)\n",
    "    init_attack_range.append(driver.find_element_by_xpath('/html[1]/body[1]/div[2]/div[3]/div[1]/div[5]/div[4]/div[1]/table[1]/tbody[1]/tr[3]/td[1]/table[1]/tbody[1]/tr[6]/td[1]').text)\n",
    "    init_projectile_speed.append(driver.find_element_by_xpath('/html[1]/body[1]/div[2]/div[3]/div[1]/div[5]/div[4]/div[1]/table[1]/tbody[1]/tr[3]/td[1]/table[1]/tbody[1]/tr[7]/td[1]').text)\n",
    "    init_attack_animation.append(driver.find_element_by_xpath('/html[1]/body[1]/div[2]/div[3]/div[1]/div[5]/div[4]/div[1]/table[1]/tbody[1]/tr[3]/td[1]/table[1]/tbody[1]/tr[8]/td[1]').text)\n",
    "    init_base_time_attack.append(driver.find_element_by_xpath('/html[1]/body[1]/div[2]/div[3]/div[1]/div[5]/div[4]/div[1]/table[1]/tbody[1]/tr[3]/td[1]/table[1]/tbody[1]/tr[9]/td[1]').text)\n",
    "    init_damage_block.append(driver.find_element_by_xpath('/html[1]/body[1]/div[2]/div[3]/div[1]/div[5]/div[4]/div[1]/table[1]/tbody[1]/tr[3]/td[1]/table[1]/tbody[1]/tr[10]/td[1]').text)\n",
    "    roles = []\n",
    "    for j in driver.find_element_by_class_name('mw-parser-output').find_elements_by_tag_name('a'):\n",
    "        if j.get_attribute('title')=='Role':\n",
    "            roles.append(j.text)\n",
    "    role.append(roles)\n"
   ]
  },
  {
   "cell_type": "code",
   "execution_count": null,
   "metadata": {},
   "outputs": [],
   "source": [
    "agi_hero = pd.DataFrame({\n",
    "    'Type':type_hero,\n",
    "    'Hero':hero,\n",
    "    'Strength':init_str,\n",
    "    'Agility':init_agi,\n",
    "    'Intelligence':init_int,\n",
    "    'Growth Strength':growth_str,\n",
    "    'Growth Agility':growth_agi,\n",
    "    'Growth Intelligence':growth_int,\n",
    "    'Health':init_health,\n",
    "    'Health Regen':init_health_regen,\n",
    "    'Mana':init_mana,\n",
    "    'Mana Regen':init_mana_regen,\n",
    "    'Armor':init_armor,\n",
    "    'Attack Speed Per Second':init_aspdpersecon,\n",
    "    'Damage':init_damage,\n",
    "    'Magic Res':init_magic_res,\n",
    "    'Movement Speed':init_movement_speed,\n",
    "    'Attack Speed':init_aspd,\n",
    "    'Turn Rate':init_turn_rate,\n",
    "    'Vision Range':init_vision_range,\n",
    "    'Attack Range':init_attack_range,\n",
    "    'Projectille Speed':init_projectile_speed,\n",
    "    'Attack Animation Speed':init_attack_animation,\n",
    "    'Base Time Attack':init_base_time_attack,\n",
    "    'Damage Blocked':init_damage_block,\n",
    "    'Role':role\n",
    "    \n",
    "})\n",
    "agi_hero"
   ]
  },
  {
   "cell_type": "code",
   "execution_count": null,
   "metadata": {},
   "outputs": [],
   "source": [
    "agi_hero.columns"
   ]
  },
  {
   "cell_type": "code",
   "execution_count": null,
   "metadata": {},
   "outputs": [],
   "source": [
    "arc_warden = pd.DataFrame({\n",
    "    'Type':['Agility'],\n",
    "    'Hero':['Arc Warden'],\n",
    "    'Strength':[23],\n",
    "    'Agility':[16],\n",
    "    'Intelligence':[24],\n",
    "    'Growth Strength':[2.8],\n",
    "    'Growth Agility':[2.5],\n",
    "    'Growth Intelligence':[2.6],\n",
    "    'Health':[660],\n",
    "    'Health Regen':[2.55],\n",
    "    'Mana':[363],\n",
    "    'Mana Regen':[1.2],\n",
    "    'Armor':[1.67],\n",
    "    'Attack Speed Per Second':[0.68],\n",
    "    'Damage':['47-57'],\n",
    "    'Magic Res':['25%'],\n",
    "    'Movement Speed':[285],\n",
    "    'Attack Speed':[100],\n",
    "    'Turn Rate':[0.7],\n",
    "    'Vision Range':['1800/800'],\n",
    "    'Attack Range':[625],\n",
    "    'Projectille Speed':[900],\n",
    "    'Attack Animation Speed':['0.3+0.7'],\n",
    "    'Base Time Attack':[1.7],\n",
    "    'Damage Blocked':[0],\n",
    "    'Role':[['Carry','Escape','Nuker']]})\n",
    "arc_warden"
   ]
  },
  {
   "cell_type": "code",
   "execution_count": null,
   "metadata": {},
   "outputs": [],
   "source": [
    "agi_hero = agi_hero.append(arc_warden).sort_values('Hero')\n",
    "agi_hero = agi_hero.reset_index()\n",
    "agi_hero = agi_hero.drop(['index'],axis=1)"
   ]
  },
  {
   "cell_type": "code",
   "execution_count": null,
   "metadata": {},
   "outputs": [],
   "source": [
    "agi_hero.to_csv('Hero Agility.csv',index=False)"
   ]
  },
  {
   "cell_type": "code",
   "execution_count": null,
   "metadata": {},
   "outputs": [],
   "source": [
    "type_hero = []\n",
    "hero = []\n",
    "init_str = []\n",
    "init_agi = []\n",
    "init_int = []\n",
    "growth_str = []\n",
    "growth_agi = []\n",
    "growth_int = []\n",
    "init_health = []\n",
    "init_health_regen = []\n",
    "init_mana = []\n",
    "init_mana_regen = []\n",
    "init_armor = []\n",
    "init_aspdpersecon = []\n",
    "init_damage = []\n",
    "init_magic_res = []\n",
    "init_movement_speed = []\n",
    "init_aspd = []\n",
    "init_turn_rate = []\n",
    "init_vision_range = []\n",
    "init_attack_range = []\n",
    "init_projectile_speed = []\n",
    "init_attack_animation = []\n",
    "init_base_time_attack = []\n",
    "init_damage_block = []\n",
    "role = []\n",
    "for i in int_hero:\n",
    "    driver.get(i)\n",
    "    type_hero.append('Intelligence')\n",
    "    hero.append(driver.find_element_by_id('firstHeading').text)\n",
    "    init_str.append(driver.find_element_by_xpath('/html[1]/body[1]/div[2]/div[3]/div[1]/div[5]/div[4]/div[1]/table[1]/tbody[1]/tr[1]/th[1]/div[2]/div[4]/b[1]').text)\n",
    "    init_agi.append(driver.find_element_by_xpath('/html[1]/body[1]/div[2]/div[3]/div[1]/div[5]/div[4]/div[1]/table[1]/tbody[1]/tr[1]/th[1]/div[2]/div[5]/b[1]').text)\n",
    "    init_int.append(driver.find_element_by_xpath('/html[1]/body[1]/div[2]/div[3]/div[1]/div[5]/div[4]/div[1]/table[1]/tbody[1]/tr[1]/th[1]/div[2]/div[6]/b[1]').text)\n",
    "    growth_str.append(driver.find_element_by_xpath('/html[1]/body[1]/div[2]/div[3]/div[1]/div[5]/div[4]/div[1]/table[1]/tbody[1]/tr[1]/th[1]/div[2]/div[4]').text.split('+ ')[1])\n",
    "    growth_agi.append(driver.find_element_by_xpath('/html[1]/body[1]/div[2]/div[3]/div[1]/div[5]/div[4]/div[1]/table[1]/tbody[1]/tr[1]/th[1]/div[2]/div[5]').text.split('+ ')[1])\n",
    "    growth_int.append(driver.find_element_by_xpath('/html[1]/body[1]/div[2]/div[3]/div[1]/div[5]/div[4]/div[1]/table[1]/tbody[1]/tr[1]/th[1]/div[2]/div[6]').text.split('+ ')[1])\n",
    "    init_health.append(driver.find_element_by_xpath('/html[1]/body[1]/div[2]/div[3]/div[1]/div[5]/div[4]/div[1]/table[1]/tbody[1]/tr[2]/td[1]/table[1]/tbody[1]/tr[2]/td[2]').text)\n",
    "    init_health_regen.append(driver.find_element_by_xpath('/html[1]/body[1]/div[2]/div[3]/div[1]/div[5]/div[4]/div[1]/table[1]/tbody[1]/tr[2]/td[1]/table[1]/tbody[1]/tr[3]/td[2]').text)\n",
    "    init_mana.append(driver.find_element_by_xpath('/html[1]/body[1]/div[2]/div[3]/div[1]/div[5]/div[4]/div[1]/table[1]/tbody[1]/tr[2]/td[1]/table[1]/tbody[1]/tr[4]/td[2]').text)\n",
    "    init_mana_regen.append(driver.find_element_by_xpath('/html[1]/body[1]/div[2]/div[3]/div[1]/div[5]/div[4]/div[1]/table[1]/tbody[1]/tr[2]/td[1]/table[1]/tbody[1]/tr[5]/td[2]').text)\n",
    "    init_armor.append(driver.find_element_by_xpath('/html[1]/body[1]/div[2]/div[3]/div[1]/div[5]/div[4]/div[1]/table[1]/tbody[1]/tr[2]/td[1]/table[1]/tbody[1]/tr[6]/td[2]').text)\n",
    "    init_aspdpersecon.append(driver.find_element_by_xpath('/html[1]/body[1]/div[2]/div[3]/div[1]/div[5]/div[4]/div[1]/table[1]/tbody[1]/tr[2]/td[1]/table[1]/tbody[1]/tr[7]/td[2]').text)\n",
    "    init_damage.append(driver.find_element_by_xpath('/html[1]/body[1]/div[2]/div[3]/div[1]/div[5]/div[4]/div[1]/table[1]/tbody[1]/tr[2]/td[1]/table[1]/tbody[1]/tr[8]/td[2]').text)\n",
    "    init_magic_res.append(driver.find_element_by_xpath('/html[1]/body[1]/div[2]/div[3]/div[1]/div[5]/div[4]/div[1]/table[1]/tbody[1]/tr[3]/td[1]/table[1]/tbody[1]/tr[1]/td[1]').text)\n",
    "    init_movement_speed.append(driver.find_element_by_xpath('/html[1]/body[1]/div[2]/div[3]/div[1]/div[5]/div[4]/div[1]/table[1]/tbody[1]/tr[3]/td[1]/table[1]/tbody[1]/tr[2]/td[1]').text)\n",
    "    init_aspd.append(driver.find_element_by_xpath('/html[1]/body[1]/div[2]/div[3]/div[1]/div[5]/div[4]/div[1]/table[1]/tbody[1]/tr[3]/td[1]/table[1]/tbody[1]/tr[3]/td[1]').text)\n",
    "    init_turn_rate.append(driver.find_element_by_xpath('/html[1]/body[1]/div[2]/div[3]/div[1]/div[5]/div[4]/div[1]/table[1]/tbody[1]/tr[3]/td[1]/table[1]/tbody[1]/tr[4]/td[1]').text)\n",
    "    init_vision_range.append(driver.find_element_by_xpath('/html[1]/body[1]/div[2]/div[3]/div[1]/div[5]/div[4]/div[1]/table[1]/tbody[1]/tr[3]/td[1]/table[1]/tbody[1]/tr[5]/td[1]').text)\n",
    "    init_attack_range.append(driver.find_element_by_xpath('/html[1]/body[1]/div[2]/div[3]/div[1]/div[5]/div[4]/div[1]/table[1]/tbody[1]/tr[3]/td[1]/table[1]/tbody[1]/tr[6]/td[1]').text)\n",
    "    init_projectile_speed.append(driver.find_element_by_xpath('/html[1]/body[1]/div[2]/div[3]/div[1]/div[5]/div[4]/div[1]/table[1]/tbody[1]/tr[3]/td[1]/table[1]/tbody[1]/tr[7]/td[1]').text)\n",
    "    init_attack_animation.append(driver.find_element_by_xpath('/html[1]/body[1]/div[2]/div[3]/div[1]/div[5]/div[4]/div[1]/table[1]/tbody[1]/tr[3]/td[1]/table[1]/tbody[1]/tr[8]/td[1]').text)\n",
    "    init_base_time_attack.append(driver.find_element_by_xpath('/html[1]/body[1]/div[2]/div[3]/div[1]/div[5]/div[4]/div[1]/table[1]/tbody[1]/tr[3]/td[1]/table[1]/tbody[1]/tr[9]/td[1]').text)\n",
    "    init_damage_block.append(driver.find_element_by_xpath('/html[1]/body[1]/div[2]/div[3]/div[1]/div[5]/div[4]/div[1]/table[1]/tbody[1]/tr[3]/td[1]/table[1]/tbody[1]/tr[10]/td[1]').text)\n",
    "    roles = []\n",
    "    for j in driver.find_element_by_class_name('mw-parser-output').find_elements_by_tag_name('a'):\n",
    "        if j.get_attribute('title')=='Role':\n",
    "            roles.append(j.text)\n",
    "    role.append(roles)\n"
   ]
  },
  {
   "cell_type": "code",
   "execution_count": null,
   "metadata": {},
   "outputs": [],
   "source": [
    "int_hero = pd.DataFrame({\n",
    "    'Type':type_hero,\n",
    "    'Hero':hero,\n",
    "    'Strength':init_str,\n",
    "    'Agility':init_agi,\n",
    "    'Intelligence':init_int,\n",
    "    'Growth Strength':growth_str,\n",
    "    'Growth Agility':growth_agi,\n",
    "    'Growth Intelligence':growth_int,\n",
    "    'Health':init_health,\n",
    "    'Health Regen':init_health_regen,\n",
    "    'Mana':init_mana,\n",
    "    'Mana Regen':init_mana_regen,\n",
    "    'Armor':init_armor,\n",
    "    'Attack Speed Per Second':init_aspdpersecon,\n",
    "    'Damage':init_damage,\n",
    "    'Magic Res':init_magic_res,\n",
    "    'Movement Speed':init_movement_speed,\n",
    "    'Attack Speed':init_aspd,\n",
    "    'Turn Rate':init_turn_rate,\n",
    "    'Vision Range':init_vision_range,\n",
    "    'Attack Range':init_attack_range,\n",
    "    'Projectille Speed':init_projectile_speed,\n",
    "    'Attack Animation Speed':init_attack_animation,\n",
    "    'Base Time Attack':init_base_time_attack,\n",
    "    'Damage Blocked':init_damage_block,\n",
    "    'Role':role\n",
    "    \n",
    "})\n",
    "int_hero"
   ]
  },
  {
   "cell_type": "code",
   "execution_count": null,
   "metadata": {},
   "outputs": [],
   "source": [
    "int_hero.to_csv('Hero Intelligence.csv',index=False)"
   ]
  },
  {
   "cell_type": "code",
   "execution_count": null,
   "metadata": {},
   "outputs": [],
   "source": [
    "error"
   ]
  },
  {
   "cell_type": "code",
   "execution_count": null,
   "metadata": {},
   "outputs": [],
   "source": [
    "driver.get('https://dota2.fandom.com/wiki/Alchemist')\n",
    "init_str = driver.find_element_by_xpath('/html[1]/body[1]/div[2]/div[3]/div[1]/div[5]/div[4]/div[1]/table[1]/tbody[1]/tr[1]/th[1]/div[2]/div[4]/b[1]').text\n",
    "init_agi = driver.find_element_by_xpath('/html[1]/body[1]/div[2]/div[3]/div[1]/div[5]/div[4]/div[1]/table[1]/tbody[1]/tr[1]/th[1]/div[2]/div[5]/b[1]').text\n",
    "init_int = driver.find_element_by_xpath('/html[1]/body[1]/div[2]/div[3]/div[1]/div[5]/div[4]/div[1]/table[1]/tbody[1]/tr[1]/th[1]/div[2]/div[6]/b[1]').text\n",
    "nama = driver.find_element_by_id('firstHeading').text\n",
    "print(init_str)\n",
    "print(init_agi)\n",
    "print(init_int)\n",
    "print(nama)"
   ]
  },
  {
   "cell_type": "code",
   "execution_count": null,
   "metadata": {},
   "outputs": [],
   "source": [
    "growth_str = driver.find_element_by_xpath('/html[1]/body[1]/div[2]/div[3]/div[1]/div[5]/div[4]/div[1]/table[1]/tbody[1]/tr[1]/th[1]/div[2]/div[4]').text.split('+ ')[1]\n",
    "growth_agi = driver.find_element_by_xpath('/html[1]/body[1]/div[2]/div[3]/div[1]/div[5]/div[4]/div[1]/table[1]/tbody[1]/tr[1]/th[1]/div[2]/div[5]').text.split('+ ')[1]\n",
    "growth_int = driver.find_element_by_xpath('/html[1]/body[1]/div[2]/div[3]/div[1]/div[5]/div[4]/div[1]/table[1]/tbody[1]/tr[1]/th[1]/div[2]/div[6]').text.split('+ ')[1]\n",
    "print(growth_str)\n",
    "print(growth_agi)\n",
    "print(growth_int)"
   ]
  },
  {
   "cell_type": "code",
   "execution_count": null,
   "metadata": {},
   "outputs": [],
   "source": [
    "init_health = driver.find_element_by_xpath('/html[1]/body[1]/div[2]/div[3]/div[1]/div[5]/div[4]/div[1]/table[1]/tbody[1]/tr[2]/td[1]/table[1]/tbody[1]/tr[2]/td[2]').text\n",
    "init_health_regen = driver.find_element_by_xpath('/html[1]/body[1]/div[2]/div[3]/div[1]/div[5]/div[4]/div[1]/table[1]/tbody[1]/tr[2]/td[1]/table[1]/tbody[1]/tr[3]/td[2]').text\n",
    "init_mana = driver.find_element_by_xpath('/html[1]/body[1]/div[2]/div[3]/div[1]/div[5]/div[4]/div[1]/table[1]/tbody[1]/tr[2]/td[1]/table[1]/tbody[1]/tr[4]/td[2]').text\n",
    "init_mana_regen = driver.find_element_by_xpath('/html[1]/body[1]/div[2]/div[3]/div[1]/div[5]/div[4]/div[1]/table[1]/tbody[1]/tr[2]/td[1]/table[1]/tbody[1]/tr[5]/td[2]').text\n",
    "init_armor = driver.find_element_by_xpath('/html[1]/body[1]/div[2]/div[3]/div[1]/div[5]/div[4]/div[1]/table[1]/tbody[1]/tr[2]/td[1]/table[1]/tbody[1]/tr[6]/td[2]').text\n",
    "init_aspdpersecon = driver.find_element_by_xpath('/html[1]/body[1]/div[2]/div[3]/div[1]/div[5]/div[4]/div[1]/table[1]/tbody[1]/tr[2]/td[1]/table[1]/tbody[1]/tr[7]/td[2]').text\n",
    "init_damage = driver.find_element_by_xpath('/html[1]/body[1]/div[2]/div[3]/div[1]/div[5]/div[4]/div[1]/table[1]/tbody[1]/tr[2]/td[1]/table[1]/tbody[1]/tr[8]/td[2]').text\n",
    "init_magic_res = driver.find_element_by_xpath('/html[1]/body[1]/div[2]/div[3]/div[1]/div[5]/div[4]/div[1]/table[1]/tbody[1]/tr[3]/td[1]/table[1]/tbody[1]/tr[1]/td[1]').text\n",
    "init_movement_speed = driver.find_element_by_xpath('/html[1]/body[1]/div[2]/div[3]/div[1]/div[5]/div[4]/div[1]/table[1]/tbody[1]/tr[3]/td[1]/table[1]/tbody[1]/tr[2]/td[1]').text\n",
    "init_aspd = driver.find_element_by_xpath('/html[1]/body[1]/div[2]/div[3]/div[1]/div[5]/div[4]/div[1]/table[1]/tbody[1]/tr[3]/td[1]/table[1]/tbody[1]/tr[3]/td[1]').text\n",
    "init_turn_rate = driver.find_element_by_xpath('/html[1]/body[1]/div[2]/div[3]/div[1]/div[5]/div[4]/div[1]/table[1]/tbody[1]/tr[3]/td[1]/table[1]/tbody[1]/tr[4]/td[1]').text\n",
    "init_vision_range = driver.find_element_by_xpath('/html[1]/body[1]/div[2]/div[3]/div[1]/div[5]/div[4]/div[1]/table[1]/tbody[1]/tr[3]/td[1]/table[1]/tbody[1]/tr[5]/td[1]').text\n",
    "init_attack_range = driver.find_element_by_xpath('/html[1]/body[1]/div[2]/div[3]/div[1]/div[5]/div[4]/div[1]/table[1]/tbody[1]/tr[3]/td[1]/table[1]/tbody[1]/tr[6]/td[1]').text\n",
    "init_projectile_speed = driver.find_element_by_xpath('/html[1]/body[1]/div[2]/div[3]/div[1]/div[5]/div[4]/div[1]/table[1]/tbody[1]/tr[3]/td[1]/table[1]/tbody[1]/tr[7]/td[1]').text\n",
    "init_attack_animation = driver.find_element_by_xpath('/html[1]/body[1]/div[2]/div[3]/div[1]/div[5]/div[4]/div[1]/table[1]/tbody[1]/tr[3]/td[1]/table[1]/tbody[1]/tr[8]/td[1]').text\n",
    "init_base_time_attack = driver.find_element_by_xpath('/html[1]/body[1]/div[2]/div[3]/div[1]/div[5]/div[4]/div[1]/table[1]/tbody[1]/tr[3]/td[1]/table[1]/tbody[1]/tr[9]/td[1]').text\n",
    "init_damage_block = driver.find_element_by_xpath('/html[1]/body[1]/div[2]/div[3]/div[1]/div[5]/div[4]/div[1]/table[1]/tbody[1]/tr[3]/td[1]/table[1]/tbody[1]/tr[10]/td[1]').text\n",
    "print(init_health)\n",
    "print(init_health_regen)\n",
    "print(init_mana)\n",
    "print(init_mana_regen)\n",
    "print(init_armor)\n",
    "print(init_aspdpersecon)\n",
    "print(init_damage)\n",
    "print(init_magic_res)\n",
    "print(init_movement_speed)\n",
    "print(init_aspd)\n",
    "print(init_turn_rate)\n",
    "print(init_vision_range)\n",
    "print(init_attack_range)\n",
    "print(init_projectile_speed)\n",
    "print(init_attack_animation)\n",
    "print(init_base_time_attack)\n",
    "print(init_damage_block)"
   ]
  },
  {
   "cell_type": "code",
   "execution_count": null,
   "metadata": {},
   "outputs": [],
   "source": [
    "for i in driver.find_element_by_class_name('mw-parser-output').find_elements_by_tag_name('a'):\n",
    "    if i.get_attribute('title')=='Role':\n",
    "        print(i.text)"
   ]
  },
  {
   "cell_type": "code",
   "execution_count": null,
   "metadata": {},
   "outputs": [],
   "source": []
  }
 ],
 "metadata": {
  "kernelspec": {
   "display_name": "Python 3",
   "language": "python",
   "name": "python3"
  },
  "language_info": {
   "codemirror_mode": {
    "name": "ipython",
    "version": 3
   },
   "file_extension": ".py",
   "mimetype": "text/x-python",
   "name": "python",
   "nbconvert_exporter": "python",
   "pygments_lexer": "ipython3",
   "version": "3.8.3"
  }
 },
 "nbformat": 4,
 "nbformat_minor": 4
}
